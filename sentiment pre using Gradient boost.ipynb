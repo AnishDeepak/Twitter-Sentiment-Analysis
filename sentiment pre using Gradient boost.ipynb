{
 "cells": [
  {
   "cell_type": "code",
   "execution_count": 1,
   "metadata": {},
   "outputs": [],
   "source": [
    "import gensim\n",
    "from nltk.corpus import stopwords\n",
    "from textblob import Word\n",
    "import warnings\n",
    "warnings.filterwarnings('ignore')\n",
    "import re"
   ]
  },
  {
   "cell_type": "code",
   "execution_count": 2,
   "metadata": {},
   "outputs": [],
   "source": [
    "import pandas as pd\n",
    "import numpy as np\n",
    "from sklearn.model_selection import train_test_split\n",
    "from sklearn.metrics import f1_score,roc_auc_score,roc_curve\n"
   ]
  },
  {
   "cell_type": "code",
   "execution_count": 3,
   "metadata": {},
   "outputs": [],
   "source": [
    "from sklearn.naive_bayes import MultinomialNB,GaussianNB\n",
    "from sklearn.neighbors import KNeighborsClassifier\n",
    "from sklearn.tree import DecisionTreeClassifier\n",
    "from sklearn.ensemble import GradientBoostingClassifier\n"
   ]
  },
  {
   "cell_type": "code",
   "execution_count": 4,
   "metadata": {},
   "outputs": [
    {
     "data": {
      "text/html": [
       "<div>\n",
       "<style scoped>\n",
       "    .dataframe tbody tr th:only-of-type {\n",
       "        vertical-align: middle;\n",
       "    }\n",
       "\n",
       "    .dataframe tbody tr th {\n",
       "        vertical-align: top;\n",
       "    }\n",
       "\n",
       "    .dataframe thead th {\n",
       "        text-align: right;\n",
       "    }\n",
       "</style>\n",
       "<table border=\"1\" class=\"dataframe\">\n",
       "  <thead>\n",
       "    <tr style=\"text-align: right;\">\n",
       "      <th></th>\n",
       "      <th>id</th>\n",
       "      <th>label</th>\n",
       "      <th>tweet</th>\n",
       "    </tr>\n",
       "  </thead>\n",
       "  <tbody>\n",
       "    <tr>\n",
       "      <th>0</th>\n",
       "      <td>1</td>\n",
       "      <td>0</td>\n",
       "      <td>#fingerprint #Pregnancy Test https://goo.gl/h1...</td>\n",
       "    </tr>\n",
       "    <tr>\n",
       "      <th>1</th>\n",
       "      <td>2</td>\n",
       "      <td>0</td>\n",
       "      <td>Finally a transparant silicon case ^^ Thanks t...</td>\n",
       "    </tr>\n",
       "    <tr>\n",
       "      <th>2</th>\n",
       "      <td>3</td>\n",
       "      <td>0</td>\n",
       "      <td>We love this! Would you go? #talk #makememorie...</td>\n",
       "    </tr>\n",
       "    <tr>\n",
       "      <th>3</th>\n",
       "      <td>4</td>\n",
       "      <td>0</td>\n",
       "      <td>I'm wired I know I'm George I was made that wa...</td>\n",
       "    </tr>\n",
       "    <tr>\n",
       "      <th>4</th>\n",
       "      <td>5</td>\n",
       "      <td>1</td>\n",
       "      <td>What amazing service! Apple won't even talk to...</td>\n",
       "    </tr>\n",
       "  </tbody>\n",
       "</table>\n",
       "</div>"
      ],
      "text/plain": [
       "   id  label                                              tweet\n",
       "0   1      0  #fingerprint #Pregnancy Test https://goo.gl/h1...\n",
       "1   2      0  Finally a transparant silicon case ^^ Thanks t...\n",
       "2   3      0  We love this! Would you go? #talk #makememorie...\n",
       "3   4      0  I'm wired I know I'm George I was made that wa...\n",
       "4   5      1  What amazing service! Apple won't even talk to..."
      ]
     },
     "execution_count": 4,
     "metadata": {},
     "output_type": "execute_result"
    }
   ],
   "source": [
    "train=pd.read_csv('train_2kmZucJ.csv')\n",
    "train.head()"
   ]
  },
  {
   "cell_type": "code",
   "execution_count": 5,
   "metadata": {},
   "outputs": [
    {
     "data": {
      "text/html": [
       "<div>\n",
       "<style scoped>\n",
       "    .dataframe tbody tr th:only-of-type {\n",
       "        vertical-align: middle;\n",
       "    }\n",
       "\n",
       "    .dataframe tbody tr th {\n",
       "        vertical-align: top;\n",
       "    }\n",
       "\n",
       "    .dataframe thead th {\n",
       "        text-align: right;\n",
       "    }\n",
       "</style>\n",
       "<table border=\"1\" class=\"dataframe\">\n",
       "  <thead>\n",
       "    <tr style=\"text-align: right;\">\n",
       "      <th></th>\n",
       "      <th>id</th>\n",
       "      <th>tweet</th>\n",
       "    </tr>\n",
       "  </thead>\n",
       "  <tbody>\n",
       "    <tr>\n",
       "      <th>0</th>\n",
       "      <td>7921</td>\n",
       "      <td>I hate the new #iphone upgrade. Won't let me d...</td>\n",
       "    </tr>\n",
       "    <tr>\n",
       "      <th>1</th>\n",
       "      <td>7922</td>\n",
       "      <td>currently shitting my fucking pants. #apple #i...</td>\n",
       "    </tr>\n",
       "    <tr>\n",
       "      <th>2</th>\n",
       "      <td>7923</td>\n",
       "      <td>I'd like to puts some CD-ROMS on my iPad, is t...</td>\n",
       "    </tr>\n",
       "    <tr>\n",
       "      <th>3</th>\n",
       "      <td>7924</td>\n",
       "      <td>My ipod is officially dead. I lost all my pict...</td>\n",
       "    </tr>\n",
       "    <tr>\n",
       "      <th>4</th>\n",
       "      <td>7925</td>\n",
       "      <td>Been fighting iTunes all night! I only want th...</td>\n",
       "    </tr>\n",
       "  </tbody>\n",
       "</table>\n",
       "</div>"
      ],
      "text/plain": [
       "     id                                              tweet\n",
       "0  7921  I hate the new #iphone upgrade. Won't let me d...\n",
       "1  7922  currently shitting my fucking pants. #apple #i...\n",
       "2  7923  I'd like to puts some CD-ROMS on my iPad, is t...\n",
       "3  7924  My ipod is officially dead. I lost all my pict...\n",
       "4  7925  Been fighting iTunes all night! I only want th..."
      ]
     },
     "execution_count": 5,
     "metadata": {},
     "output_type": "execute_result"
    }
   ],
   "source": [
    "test=pd.read_csv('test_oJQbWVk.csv')\n",
    "test.head()"
   ]
  },
  {
   "cell_type": "code",
   "execution_count": 6,
   "metadata": {},
   "outputs": [
    {
     "data": {
      "text/html": [
       "<div>\n",
       "<style scoped>\n",
       "    .dataframe tbody tr th:only-of-type {\n",
       "        vertical-align: middle;\n",
       "    }\n",
       "\n",
       "    .dataframe tbody tr th {\n",
       "        vertical-align: top;\n",
       "    }\n",
       "\n",
       "    .dataframe thead th {\n",
       "        text-align: right;\n",
       "    }\n",
       "</style>\n",
       "<table border=\"1\" class=\"dataframe\">\n",
       "  <thead>\n",
       "    <tr style=\"text-align: right;\">\n",
       "      <th></th>\n",
       "      <th>id</th>\n",
       "      <th>label</th>\n",
       "      <th>tweet</th>\n",
       "    </tr>\n",
       "  </thead>\n",
       "  <tbody>\n",
       "    <tr>\n",
       "      <th>0</th>\n",
       "      <td>1</td>\n",
       "      <td>0.0</td>\n",
       "      <td>#fingerprint #Pregnancy Test https://goo.gl/h1...</td>\n",
       "    </tr>\n",
       "    <tr>\n",
       "      <th>1</th>\n",
       "      <td>2</td>\n",
       "      <td>0.0</td>\n",
       "      <td>Finally a transparant silicon case ^^ Thanks t...</td>\n",
       "    </tr>\n",
       "    <tr>\n",
       "      <th>2</th>\n",
       "      <td>3</td>\n",
       "      <td>0.0</td>\n",
       "      <td>We love this! Would you go? #talk #makememorie...</td>\n",
       "    </tr>\n",
       "    <tr>\n",
       "      <th>3</th>\n",
       "      <td>4</td>\n",
       "      <td>0.0</td>\n",
       "      <td>I'm wired I know I'm George I was made that wa...</td>\n",
       "    </tr>\n",
       "    <tr>\n",
       "      <th>4</th>\n",
       "      <td>5</td>\n",
       "      <td>1.0</td>\n",
       "      <td>What amazing service! Apple won't even talk to...</td>\n",
       "    </tr>\n",
       "  </tbody>\n",
       "</table>\n",
       "</div>"
      ],
      "text/plain": [
       "   id  label                                              tweet\n",
       "0   1    0.0  #fingerprint #Pregnancy Test https://goo.gl/h1...\n",
       "1   2    0.0  Finally a transparant silicon case ^^ Thanks t...\n",
       "2   3    0.0  We love this! Would you go? #talk #makememorie...\n",
       "3   4    0.0  I'm wired I know I'm George I was made that wa...\n",
       "4   5    1.0  What amazing service! Apple won't even talk to..."
      ]
     },
     "execution_count": 6,
     "metadata": {},
     "output_type": "execute_result"
    }
   ],
   "source": [
    "df=train.append(test,ignore_index=True)\n",
    "df.head()"
   ]
  },
  {
   "cell_type": "code",
   "execution_count": 7,
   "metadata": {},
   "outputs": [],
   "source": [
    "stop=stopwords.words('english') \n",
    "def preprocess(tweet):\n",
    "    final_text=' '\n",
    "    #tokenization using gensim\n",
    "    tokens=gensim.utils.simple_preprocess(str(tweet),deacc=True)\n",
    "    #text normalization using textblob\n",
    "    lemmed_tokens=[Word(i.lower(),pos_tag='v')for i in tokens if i.lower() not in stop]\n",
    "    final_text=final_text.join(lemmed_tokens)\n",
    "    return final_text\n",
    "    \n",
    "    \n",
    "    \n",
    "        \n",
    "        \n",
    "    \n",
    "    \n",
    "    \n",
    "    \n",
    "    \n",
    "    \n",
    "    "
   ]
  },
  {
   "cell_type": "code",
   "execution_count": 8,
   "metadata": {},
   "outputs": [
    {
     "data": {
      "text/html": [
       "<div>\n",
       "<style scoped>\n",
       "    .dataframe tbody tr th:only-of-type {\n",
       "        vertical-align: middle;\n",
       "    }\n",
       "\n",
       "    .dataframe tbody tr th {\n",
       "        vertical-align: top;\n",
       "    }\n",
       "\n",
       "    .dataframe thead th {\n",
       "        text-align: right;\n",
       "    }\n",
       "</style>\n",
       "<table border=\"1\" class=\"dataframe\">\n",
       "  <thead>\n",
       "    <tr style=\"text-align: right;\">\n",
       "      <th></th>\n",
       "      <th>id</th>\n",
       "      <th>label</th>\n",
       "      <th>tweet</th>\n",
       "      <th>clean_tweet</th>\n",
       "    </tr>\n",
       "  </thead>\n",
       "  <tbody>\n",
       "    <tr>\n",
       "      <th>0</th>\n",
       "      <td>1</td>\n",
       "      <td>0.0</td>\n",
       "      <td>#fingerprint #Pregnancy Test https://goo.gl/h1...</td>\n",
       "      <td>fingerprint pregnancy test https goo gl mfqv a...</td>\n",
       "    </tr>\n",
       "    <tr>\n",
       "      <th>1</th>\n",
       "      <td>2</td>\n",
       "      <td>0.0</td>\n",
       "      <td>Finally a transparant silicon case ^^ Thanks t...</td>\n",
       "      <td>finally transparant silicon case thanks uncle ...</td>\n",
       "    </tr>\n",
       "    <tr>\n",
       "      <th>2</th>\n",
       "      <td>3</td>\n",
       "      <td>0.0</td>\n",
       "      <td>We love this! Would you go? #talk #makememorie...</td>\n",
       "      <td>love would go talk makememories unplug relax i...</td>\n",
       "    </tr>\n",
       "    <tr>\n",
       "      <th>3</th>\n",
       "      <td>4</td>\n",
       "      <td>0.0</td>\n",
       "      <td>I'm wired I know I'm George I was made that wa...</td>\n",
       "      <td>wired know george made way iphone cute daventr...</td>\n",
       "    </tr>\n",
       "    <tr>\n",
       "      <th>4</th>\n",
       "      <td>5</td>\n",
       "      <td>1.0</td>\n",
       "      <td>What amazing service! Apple won't even talk to...</td>\n",
       "      <td>amazing service apple even talk question unles...</td>\n",
       "    </tr>\n",
       "  </tbody>\n",
       "</table>\n",
       "</div>"
      ],
      "text/plain": [
       "   id  label                                              tweet  \\\n",
       "0   1    0.0  #fingerprint #Pregnancy Test https://goo.gl/h1...   \n",
       "1   2    0.0  Finally a transparant silicon case ^^ Thanks t...   \n",
       "2   3    0.0  We love this! Would you go? #talk #makememorie...   \n",
       "3   4    0.0  I'm wired I know I'm George I was made that wa...   \n",
       "4   5    1.0  What amazing service! Apple won't even talk to...   \n",
       "\n",
       "                                         clean_tweet  \n",
       "0  fingerprint pregnancy test https goo gl mfqv a...  \n",
       "1  finally transparant silicon case thanks uncle ...  \n",
       "2  love would go talk makememories unplug relax i...  \n",
       "3  wired know george made way iphone cute daventr...  \n",
       "4  amazing service apple even talk question unles...  "
      ]
     },
     "execution_count": 8,
     "metadata": {},
     "output_type": "execute_result"
    }
   ],
   "source": [
    "df['clean_tweet']=df['tweet'].apply(lambda x :preprocess(x))\n",
    "df.head()"
   ]
  },
  {
   "cell_type": "code",
   "execution_count": 9,
   "metadata": {},
   "outputs": [],
   "source": [
    "from gensim.models import Word2Vec"
   ]
  },
  {
   "cell_type": "code",
   "execution_count": 10,
   "metadata": {},
   "outputs": [
    {
     "data": {
      "text/plain": [
       "(1747413, 2862340)"
      ]
     },
     "execution_count": 10,
     "metadata": {},
     "output_type": "execute_result"
    }
   ],
   "source": [
    "tokenized_tweet = df['clean_tweet'].apply(lambda x: x.split()) # tokenizing\n",
    "\n",
    "model_w2v = Word2Vec(tokenized_tweet, size=500,  window=10)\n",
    "\n",
    "model_w2v.train(tokenized_tweet, total_examples= len(df['clean_tweet']), epochs=20)"
   ]
  },
  {
   "cell_type": "code",
   "execution_count": 11,
   "metadata": {},
   "outputs": [
    {
     "data": {
      "text/plain": [
       "[('valentineday', 0.6397615671157837),\n",
       " ('daughter', 0.6360577344894409),\n",
       " ('special', 0.6198958158493042),\n",
       " ('poem', 0.6190009713172913),\n",
       " ('valentineapp', 0.6027131080627441),\n",
       " ('icons', 0.5995475053787231),\n",
       " ('romance', 0.5905157923698425),\n",
       " ('forever', 0.586988627910614),\n",
       " ('nowplaying', 0.586227536201477),\n",
       " ('idol', 0.5856589078903198)]"
      ]
     },
     "execution_count": 11,
     "metadata": {},
     "output_type": "execute_result"
    }
   ],
   "source": [
    "model_w2v.wv.most_similar(positive=\"love\")"
   ]
  },
  {
   "cell_type": "code",
   "execution_count": 12,
   "metadata": {},
   "outputs": [
    {
     "data": {
      "text/plain": [
       "500"
      ]
     },
     "execution_count": 12,
     "metadata": {},
     "output_type": "execute_result"
    }
   ],
   "source": [
    "len(model_w2v['company'])"
   ]
  },
  {
   "cell_type": "code",
   "execution_count": 13,
   "metadata": {},
   "outputs": [],
   "source": [
    "def word_vector(tokens, size):\n",
    "    vec = np.zeros(size).reshape((1, size))\n",
    "    count = 0.\n",
    "    for word in tokens:\n",
    "        try:\n",
    "            vec += model_w2v[word].reshape((1, size))\n",
    "            count += 1.\n",
    "        except KeyError: # handling the case where the token is not in vocabulary\n",
    "                         \n",
    "            continue\n",
    "    if count != 0:\n",
    "        vec /= count\n",
    "    return vec"
   ]
  },
  {
   "cell_type": "code",
   "execution_count": 15,
   "metadata": {},
   "outputs": [
    {
     "data": {
      "text/plain": [
       "(9873, 500)"
      ]
     },
     "execution_count": 15,
     "metadata": {},
     "output_type": "execute_result"
    }
   ],
   "source": [
    "wordvec_arrays = np.zeros((len(tokenized_tweet), 500))\n",
    "\n",
    "for i in range(len(tokenized_tweet)):\n",
    "    wordvec_arrays[i,:] = word_vector(tokenized_tweet[i], 500)\n",
    "    \n",
    "wordvec_df = pd.DataFrame(wordvec_arrays)\n",
    "wordvec_df.shape"
   ]
  },
  {
   "cell_type": "code",
   "execution_count": 16,
   "metadata": {},
   "outputs": [
    {
     "data": {
      "text/html": [
       "<div>\n",
       "<style scoped>\n",
       "    .dataframe tbody tr th:only-of-type {\n",
       "        vertical-align: middle;\n",
       "    }\n",
       "\n",
       "    .dataframe tbody tr th {\n",
       "        vertical-align: top;\n",
       "    }\n",
       "\n",
       "    .dataframe thead th {\n",
       "        text-align: right;\n",
       "    }\n",
       "</style>\n",
       "<table border=\"1\" class=\"dataframe\">\n",
       "  <thead>\n",
       "    <tr style=\"text-align: right;\">\n",
       "      <th></th>\n",
       "      <th>0</th>\n",
       "      <th>1</th>\n",
       "      <th>2</th>\n",
       "      <th>3</th>\n",
       "      <th>4</th>\n",
       "      <th>5</th>\n",
       "      <th>6</th>\n",
       "      <th>7</th>\n",
       "      <th>8</th>\n",
       "      <th>9</th>\n",
       "      <th>...</th>\n",
       "      <th>490</th>\n",
       "      <th>491</th>\n",
       "      <th>492</th>\n",
       "      <th>493</th>\n",
       "      <th>494</th>\n",
       "      <th>495</th>\n",
       "      <th>496</th>\n",
       "      <th>497</th>\n",
       "      <th>498</th>\n",
       "      <th>499</th>\n",
       "    </tr>\n",
       "  </thead>\n",
       "  <tbody>\n",
       "    <tr>\n",
       "      <th>0</th>\n",
       "      <td>0.125227</td>\n",
       "      <td>-0.391683</td>\n",
       "      <td>0.131354</td>\n",
       "      <td>0.091585</td>\n",
       "      <td>-0.438580</td>\n",
       "      <td>-0.375053</td>\n",
       "      <td>0.162052</td>\n",
       "      <td>0.169032</td>\n",
       "      <td>-0.407086</td>\n",
       "      <td>-0.141479</td>\n",
       "      <td>...</td>\n",
       "      <td>-0.063897</td>\n",
       "      <td>0.360795</td>\n",
       "      <td>-0.406531</td>\n",
       "      <td>0.062980</td>\n",
       "      <td>-0.268502</td>\n",
       "      <td>-0.204521</td>\n",
       "      <td>-0.119259</td>\n",
       "      <td>-0.001938</td>\n",
       "      <td>0.182977</td>\n",
       "      <td>-0.051623</td>\n",
       "    </tr>\n",
       "    <tr>\n",
       "      <th>1</th>\n",
       "      <td>0.086305</td>\n",
       "      <td>-0.253614</td>\n",
       "      <td>-0.000789</td>\n",
       "      <td>0.041753</td>\n",
       "      <td>-0.215913</td>\n",
       "      <td>-0.110257</td>\n",
       "      <td>-0.360805</td>\n",
       "      <td>-0.202722</td>\n",
       "      <td>-0.056936</td>\n",
       "      <td>0.073522</td>\n",
       "      <td>...</td>\n",
       "      <td>0.193842</td>\n",
       "      <td>-0.000568</td>\n",
       "      <td>0.225405</td>\n",
       "      <td>-0.060997</td>\n",
       "      <td>0.243380</td>\n",
       "      <td>0.217117</td>\n",
       "      <td>0.183296</td>\n",
       "      <td>-0.034310</td>\n",
       "      <td>0.328386</td>\n",
       "      <td>0.047577</td>\n",
       "    </tr>\n",
       "    <tr>\n",
       "      <th>2</th>\n",
       "      <td>-0.082121</td>\n",
       "      <td>-0.102895</td>\n",
       "      <td>0.027893</td>\n",
       "      <td>0.077724</td>\n",
       "      <td>-0.203670</td>\n",
       "      <td>-0.113614</td>\n",
       "      <td>0.174711</td>\n",
       "      <td>0.017546</td>\n",
       "      <td>-0.285995</td>\n",
       "      <td>0.023068</td>\n",
       "      <td>...</td>\n",
       "      <td>0.025538</td>\n",
       "      <td>0.110715</td>\n",
       "      <td>-0.071643</td>\n",
       "      <td>0.141493</td>\n",
       "      <td>0.021824</td>\n",
       "      <td>-0.003089</td>\n",
       "      <td>-0.123384</td>\n",
       "      <td>-0.012902</td>\n",
       "      <td>0.119232</td>\n",
       "      <td>-0.089292</td>\n",
       "    </tr>\n",
       "    <tr>\n",
       "      <th>3</th>\n",
       "      <td>0.085471</td>\n",
       "      <td>-0.411108</td>\n",
       "      <td>0.094894</td>\n",
       "      <td>0.212668</td>\n",
       "      <td>-0.290226</td>\n",
       "      <td>-0.166844</td>\n",
       "      <td>0.027329</td>\n",
       "      <td>-0.048807</td>\n",
       "      <td>-0.068764</td>\n",
       "      <td>-0.038895</td>\n",
       "      <td>...</td>\n",
       "      <td>0.059906</td>\n",
       "      <td>0.277203</td>\n",
       "      <td>-0.055383</td>\n",
       "      <td>-0.022271</td>\n",
       "      <td>0.093931</td>\n",
       "      <td>-0.180991</td>\n",
       "      <td>-0.077809</td>\n",
       "      <td>-0.033997</td>\n",
       "      <td>0.173783</td>\n",
       "      <td>-0.107399</td>\n",
       "    </tr>\n",
       "    <tr>\n",
       "      <th>4</th>\n",
       "      <td>-0.230748</td>\n",
       "      <td>-0.119309</td>\n",
       "      <td>-0.077226</td>\n",
       "      <td>-0.131885</td>\n",
       "      <td>-0.261942</td>\n",
       "      <td>0.033899</td>\n",
       "      <td>0.324270</td>\n",
       "      <td>0.209370</td>\n",
       "      <td>-0.296897</td>\n",
       "      <td>0.197245</td>\n",
       "      <td>...</td>\n",
       "      <td>-0.059451</td>\n",
       "      <td>0.143881</td>\n",
       "      <td>-0.106591</td>\n",
       "      <td>0.390951</td>\n",
       "      <td>0.011605</td>\n",
       "      <td>0.039551</td>\n",
       "      <td>-0.150310</td>\n",
       "      <td>0.122150</td>\n",
       "      <td>-0.085752</td>\n",
       "      <td>-0.245766</td>\n",
       "    </tr>\n",
       "  </tbody>\n",
       "</table>\n",
       "<p>5 rows × 500 columns</p>\n",
       "</div>"
      ],
      "text/plain": [
       "        0         1         2         3         4         5         6    \\\n",
       "0  0.125227 -0.391683  0.131354  0.091585 -0.438580 -0.375053  0.162052   \n",
       "1  0.086305 -0.253614 -0.000789  0.041753 -0.215913 -0.110257 -0.360805   \n",
       "2 -0.082121 -0.102895  0.027893  0.077724 -0.203670 -0.113614  0.174711   \n",
       "3  0.085471 -0.411108  0.094894  0.212668 -0.290226 -0.166844  0.027329   \n",
       "4 -0.230748 -0.119309 -0.077226 -0.131885 -0.261942  0.033899  0.324270   \n",
       "\n",
       "        7         8         9    ...       490       491       492       493  \\\n",
       "0  0.169032 -0.407086 -0.141479  ... -0.063897  0.360795 -0.406531  0.062980   \n",
       "1 -0.202722 -0.056936  0.073522  ...  0.193842 -0.000568  0.225405 -0.060997   \n",
       "2  0.017546 -0.285995  0.023068  ...  0.025538  0.110715 -0.071643  0.141493   \n",
       "3 -0.048807 -0.068764 -0.038895  ...  0.059906  0.277203 -0.055383 -0.022271   \n",
       "4  0.209370 -0.296897  0.197245  ... -0.059451  0.143881 -0.106591  0.390951   \n",
       "\n",
       "        494       495       496       497       498       499  \n",
       "0 -0.268502 -0.204521 -0.119259 -0.001938  0.182977 -0.051623  \n",
       "1  0.243380  0.217117  0.183296 -0.034310  0.328386  0.047577  \n",
       "2  0.021824 -0.003089 -0.123384 -0.012902  0.119232 -0.089292  \n",
       "3  0.093931 -0.180991 -0.077809 -0.033997  0.173783 -0.107399  \n",
       "4  0.011605  0.039551 -0.150310  0.122150 -0.085752 -0.245766  \n",
       "\n",
       "[5 rows x 500 columns]"
      ]
     },
     "execution_count": 16,
     "metadata": {},
     "output_type": "execute_result"
    }
   ],
   "source": [
    "wordvec_df.head()"
   ]
  },
  {
   "cell_type": "code",
   "execution_count": 17,
   "metadata": {},
   "outputs": [
    {
     "name": "stdout",
     "output_type": "stream",
     "text": [
      "(7920, 3)\n",
      "(1953, 2)\n"
     ]
    }
   ],
   "source": [
    "print(train.shape)\n",
    "print(test.shape)\n",
    "train_df=wordvec_df.iloc[:7920,:]\n",
    "test_df=wordvec_df.iloc[7920:,:]"
   ]
  },
  {
   "cell_type": "code",
   "execution_count": 18,
   "metadata": {},
   "outputs": [
    {
     "name": "stdout",
     "output_type": "stream",
     "text": [
      "(7920, 500)\n",
      "(1953, 500)\n"
     ]
    }
   ],
   "source": [
    "print(train_df.shape)\n",
    "print(test_df.shape)"
   ]
  },
  {
   "cell_type": "code",
   "execution_count": 19,
   "metadata": {},
   "outputs": [],
   "source": [
    "label=train['label']"
   ]
  },
  {
   "cell_type": "code",
   "execution_count": 20,
   "metadata": {},
   "outputs": [],
   "source": [
    "x_train,x_test,y_train,y_test=train_test_split(train_df,label,test_size=.2,random_state=42)\n"
   ]
  },
  {
   "cell_type": "code",
   "execution_count": 21,
   "metadata": {},
   "outputs": [],
   "source": [
    "gbc=GradientBoostingClassifier()\n",
    "gbc.fit(x_train,y_train)\n",
    "gbc_pre=gbc.predict(x_test)\n",
    "print(f1_score(y_test,gbc_pre,average='weighted'))"
   ]
  },
  {
   "cell_type": "code",
   "execution_count": 23,
   "metadata": {},
   "outputs": [
    {
     "data": {
      "text/plain": [
       "[<matplotlib.lines.Line2D at 0x2467047dac0>]"
      ]
     },
     "execution_count": 23,
     "metadata": {},
     "output_type": "execute_result"
    },
    {
     "data": {
      "image/png": "[encoded data removed]",
      "text/plain": [
       "<Figure size 432x288 with 1 Axes>"
      ]
     },
     "metadata": {
      "needs_background": "light"
     },
     "output_type": "display_data"
    }
   ],
   "source": [
    "import matplotlib.pyplot as plt\n",
    "prob=gbc.predict_proba(x_test)[::,1]\n",
    "fpr,tpr,threshold=roc_curve(y_test,prob)\n",
    "plt.xlabel('FPR')\n",
    "plt.ylabel(\"TPR\")\n",
    "plt.plot(fpr,tpr)\n"
   ]
  },
  {
   "cell_type": "code",
   "execution_count": 38,
   "metadata": {},
   "outputs": [
    {
     "data": {
      "text/html": [
       "<div>\n",
       "<style scoped>\n",
       "    .dataframe tbody tr th:only-of-type {\n",
       "        vertical-align: middle;\n",
       "    }\n",
       "\n",
       "    .dataframe tbody tr th {\n",
       "        vertical-align: top;\n",
       "    }\n",
       "\n",
       "    .dataframe thead th {\n",
       "        text-align: right;\n",
       "    }\n",
       "</style>\n",
       "<table border=\"1\" class=\"dataframe\">\n",
       "  <thead>\n",
       "    <tr style=\"text-align: right;\">\n",
       "      <th></th>\n",
       "      <th>FPR</th>\n",
       "      <th>TPR</th>\n",
       "      <th>THRESHOLD</th>\n",
       "    </tr>\n",
       "  </thead>\n",
       "  <tbody>\n",
       "    <tr>\n",
       "      <th>152</th>\n",
       "      <td>0.081597</td>\n",
       "      <td>0.851852</td>\n",
       "      <td>0.402416</td>\n",
       "    </tr>\n",
       "    <tr>\n",
       "      <th>153</th>\n",
       "      <td>0.085938</td>\n",
       "      <td>0.851852</td>\n",
       "      <td>0.391631</td>\n",
       "    </tr>\n",
       "    <tr>\n",
       "      <th>154</th>\n",
       "      <td>0.085938</td>\n",
       "      <td>0.858796</td>\n",
       "      <td>0.378440</td>\n",
       "    </tr>\n",
       "    <tr>\n",
       "      <th>155</th>\n",
       "      <td>0.087674</td>\n",
       "      <td>0.858796</td>\n",
       "      <td>0.373135</td>\n",
       "    </tr>\n",
       "    <tr>\n",
       "      <th>156</th>\n",
       "      <td>0.087674</td>\n",
       "      <td>0.861111</td>\n",
       "      <td>0.369666</td>\n",
       "    </tr>\n",
       "    <tr>\n",
       "      <th>157</th>\n",
       "      <td>0.088542</td>\n",
       "      <td>0.861111</td>\n",
       "      <td>0.368042</td>\n",
       "    </tr>\n",
       "    <tr>\n",
       "      <th>158</th>\n",
       "      <td>0.088542</td>\n",
       "      <td>0.865741</td>\n",
       "      <td>0.363588</td>\n",
       "    </tr>\n",
       "    <tr>\n",
       "      <th>159</th>\n",
       "      <td>0.090278</td>\n",
       "      <td>0.865741</td>\n",
       "      <td>0.352516</td>\n",
       "    </tr>\n",
       "    <tr>\n",
       "      <th>160</th>\n",
       "      <td>0.090278</td>\n",
       "      <td>0.868056</td>\n",
       "      <td>0.350901</td>\n",
       "    </tr>\n",
       "    <tr>\n",
       "      <th>161</th>\n",
       "      <td>0.092014</td>\n",
       "      <td>0.868056</td>\n",
       "      <td>0.338156</td>\n",
       "    </tr>\n",
       "    <tr>\n",
       "      <th>162</th>\n",
       "      <td>0.092014</td>\n",
       "      <td>0.870370</td>\n",
       "      <td>0.335978</td>\n",
       "    </tr>\n",
       "    <tr>\n",
       "      <th>163</th>\n",
       "      <td>0.093750</td>\n",
       "      <td>0.870370</td>\n",
       "      <td>0.335105</td>\n",
       "    </tr>\n",
       "    <tr>\n",
       "      <th>164</th>\n",
       "      <td>0.093750</td>\n",
       "      <td>0.879630</td>\n",
       "      <td>0.322466</td>\n",
       "    </tr>\n",
       "    <tr>\n",
       "      <th>165</th>\n",
       "      <td>0.094618</td>\n",
       "      <td>0.879630</td>\n",
       "      <td>0.318875</td>\n",
       "    </tr>\n",
       "    <tr>\n",
       "      <th>166</th>\n",
       "      <td>0.094618</td>\n",
       "      <td>0.881944</td>\n",
       "      <td>0.317864</td>\n",
       "    </tr>\n",
       "    <tr>\n",
       "      <th>167</th>\n",
       "      <td>0.097222</td>\n",
       "      <td>0.881944</td>\n",
       "      <td>0.305875</td>\n",
       "    </tr>\n",
       "    <tr>\n",
       "      <th>168</th>\n",
       "      <td>0.097222</td>\n",
       "      <td>0.884259</td>\n",
       "      <td>0.304227</td>\n",
       "    </tr>\n",
       "    <tr>\n",
       "      <th>169</th>\n",
       "      <td>0.100694</td>\n",
       "      <td>0.884259</td>\n",
       "      <td>0.293200</td>\n",
       "    </tr>\n",
       "    <tr>\n",
       "      <th>170</th>\n",
       "      <td>0.100694</td>\n",
       "      <td>0.891204</td>\n",
       "      <td>0.278705</td>\n",
       "    </tr>\n",
       "    <tr>\n",
       "      <th>171</th>\n",
       "      <td>0.107639</td>\n",
       "      <td>0.891204</td>\n",
       "      <td>0.253960</td>\n",
       "    </tr>\n",
       "  </tbody>\n",
       "</table>\n",
       "</div>"
      ],
      "text/plain": [
       "          FPR       TPR  THRESHOLD\n",
       "152  0.081597  0.851852   0.402416\n",
       "153  0.085938  0.851852   0.391631\n",
       "154  0.085938  0.858796   0.378440\n",
       "155  0.087674  0.858796   0.373135\n",
       "156  0.087674  0.861111   0.369666\n",
       "157  0.088542  0.861111   0.368042\n",
       "158  0.088542  0.865741   0.363588\n",
       "159  0.090278  0.865741   0.352516\n",
       "160  0.090278  0.868056   0.350901\n",
       "161  0.092014  0.868056   0.338156\n",
       "162  0.092014  0.870370   0.335978\n",
       "163  0.093750  0.870370   0.335105\n",
       "164  0.093750  0.879630   0.322466\n",
       "165  0.094618  0.879630   0.318875\n",
       "166  0.094618  0.881944   0.317864\n",
       "167  0.097222  0.881944   0.305875\n",
       "168  0.097222  0.884259   0.304227\n",
       "169  0.100694  0.884259   0.293200\n",
       "170  0.100694  0.891204   0.278705\n",
       "171  0.107639  0.891204   0.253960"
      ]
     },
     "execution_count": 38,
     "metadata": {},
     "output_type": "execute_result"
    }
   ],
   "source": [
    "#tuning=pd.DataFrame({'FPR':fpr,'TPR':tpr,\"THRESHOLD\":threshold})\n",
    "tuning[tuning['TPR']>.80][20:40]\n"
   ]
  },
  {
   "cell_type": "code",
   "execution_count": 39,
   "metadata": {},
   "outputs": [],
   "source": [
    "\n",
    "new_pred=[]\n",
    "    \n",
    "for i in prob:\n",
    "    if i >0.305875:\n",
    "        new_pred.append(1)\n",
    "    elif i<0.305875:\n",
    "        new_pred.append(0)\n",
    "    "
   ]
  },
  {
   "cell_type": "code",
   "execution_count": 40,
   "metadata": {},
   "outputs": [
    {
     "name": "stdout",
     "output_type": "stream",
     "text": [
      "0.8990897370032458\n"
     ]
    }
   ],
   "source": [
    "print(f1_score(y_test,new_pred,average='weighted'))"
   ]
  },
  {
   "cell_type": "code",
   "execution_count": 41,
   "metadata": {},
   "outputs": [],
   "source": [
    "test_df_pre=gbc.predict(test_df)"
   ]
  },
  {
   "cell_type": "code",
   "execution_count": 45,
   "metadata": {},
   "outputs": [],
   "source": [
    "submisssion=pd.DataFrame({'id':test[\"id\"],'label':test_df_pre})\n"
   ]
  },
  {
   "cell_type": "code",
   "execution_count": 46,
   "metadata": {},
   "outputs": [],
   "source": [
    "submisssion.to_csv(r'submission_tweets_w2v_without_tune.csv', index = False)"
   ]
  },
  {
   "cell_type": "code",
   "execution_count": null,
   "metadata": {},
   "outputs": [],
   "source": []
  }
 ],
 "metadata": {
  "kernelspec": {
   "display_name": "Python 3",
   "language": "python",
   "name": "python3"
  },
  "language_info": {
   "codemirror_mode": {
    "name": "ipython",
    "version": 3
   },
   "file_extension": ".py",
   "mimetype": "text/x-python",
   "name": "python",
   "nbconvert_exporter": "python",
   "pygments_lexer": "ipython3",
   "version": "3.8.3"
  }
 },
 "nbformat": 4,
 "nbformat_minor": 4
}
